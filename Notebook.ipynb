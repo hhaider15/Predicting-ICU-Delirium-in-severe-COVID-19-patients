{
  "nbformat": 4,
  "nbformat_minor": 0,
  "metadata": {
    "colab": {
      "name": "[To be shared] Predicting ICU delirium: a significant predictor of post-COVID cognitive impairment.ipynb",
      "provenance": [],
      "collapsed_sections": []
    },
    "kernelspec": {
      "name": "python3",
      "display_name": "Python 3"
    },
    "language_info": {
      "name": "python"
    }
  },
  "cells": [
    {
      "cell_type": "code",
      "metadata": {
        "id": "K4ZM1LbYy5_c"
      },
      "source": [
        "pip install mljar-supervised"
      ],
      "execution_count": null,
      "outputs": []
    },
    {
      "cell_type": "code",
      "metadata": {
        "id": "AKPebp7yztqY"
      },
      "source": [
        "import pandas as pd\n",
        "from sklearn.model_selection import train_test_split\n",
        "from supervised.automl import AutoML\n",
        "\n",
        "df = pd.read_csv(\n",
        "    \"/content/Data.csv\",encoding='cp1252')\n",
        "\n",
        "df"
      ],
      "execution_count": null,
      "outputs": []
    },
    {
      "cell_type": "code",
      "metadata": {
        "id": "MRdmsn2ns2Gu"
      },
      "source": [
        ""
      ],
      "execution_count": null,
      "outputs": []
    },
    {
      "cell_type": "code",
      "metadata": {
        "id": "eOI124oBs1t4"
      },
      "source": [
        "# predicting ICU delirium\n",
        "optimzied = df.drop (['MoCA', 'Mood', 'anxiety', 'Cognitive_slowness', 'Mental_fatigue'], axis=1)\n",
        "\n",
        "x=optimzied.drop('ICU_delirium',axis=1)\n",
        "y=optimzied.ICU_delirium\n",
        "\n",
        "X_train, X_test, y_train, y_test = train_test_split(\n",
        "    x, y, test_size=0.25\n",
        ")\n",
        "\n",
        "automl = AutoML(mode='Explain')\n",
        "automl.fit(X_train, y_train)\n",
        "\n",
        "predictions = automl.predict(X_test)"
      ],
      "execution_count": null,
      "outputs": []
    },
    {
      "cell_type": "code",
      "metadata": {
        "id": "tpE_AeJas5bL"
      },
      "source": [
        ""
      ],
      "execution_count": null,
      "outputs": []
    },
    {
      "cell_type": "code",
      "metadata": {
        "id": "7ht11gv4s48E"
      },
      "source": [
        "# predicting MOCA scores using ICU delirium and other factors\n",
        "optimzied = df.drop (['Mood', 'anxiety', 'Cognitive_slowness', 'Mental_fatigue'], axis=1)\n",
        "\n",
        "x=optimzied.drop('MoCA',axis=1)\n",
        "y=optimzied.MoCA\n",
        "\n",
        "X_train, X_test, y_train, y_test = train_test_split(\n",
        "    x, y, test_size=0.25\n",
        ")\n",
        "\n",
        "automl = AutoML(mode='Explain')\n",
        "automl.fit(X_train, y_train)\n",
        "\n",
        "predictions = automl.predict(X_test)"
      ],
      "execution_count": null,
      "outputs": []
    },
    {
      "cell_type": "code",
      "metadata": {
        "id": "0_fQKcBBs7Qk"
      },
      "source": [
        ""
      ],
      "execution_count": null,
      "outputs": []
    },
    {
      "cell_type": "code",
      "metadata": {
        "id": "YCu6cgYXv_YP"
      },
      "source": [
        "# predicting congnitive slowness using ICU delirium and other factors\n",
        "optimzied = df.drop (['Mood', 'anxiety', 'MoCA', 'Mental_fatigue'], axis=1)\n",
        "\n",
        "x=optimzied.drop('Cognitive_slowness',axis=1)\n",
        "y=optimzied.Cognitive_slowness\n",
        "\n",
        "X_train, X_test, y_train, y_test = train_test_split(\n",
        "    x, y, test_size=0.25\n",
        ")\n",
        "\n",
        "automl = AutoML(mode='Explain')\n",
        "automl.fit(X_train, y_train)\n",
        "\n",
        "predictions = automl.predict(X_test)"
      ],
      "execution_count": null,
      "outputs": []
    }
  ]
}